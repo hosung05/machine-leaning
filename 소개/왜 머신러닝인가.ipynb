{
 "cells": [
  {
   "cell_type": "markdown",
   "metadata": {
    "collapsed": true
   },
   "source": [
    "# 왜 머신 러닝인가?"
   ]
  },
  {
   "cell_type": "markdown",
   "metadata": {},
   "source": [
    "의심되는 메일을 스팸함으로 보내야 하는 스팸 필터를 생각해보자. 스팸으로 의심되는 단어들로 블랙리스트를 만들어 처리할 수 있을 것입니다.\n",
    "\n",
    "이 방식은 지능형 어플을 만들기 위해 규칙 기반 전문가 시스템을 사용하는 예입니다. \n",
    "결정 규칙을 수동으로 만드는 것이 적합할 때도 있습니다. 모델링할 처리 과정을 사람이 잘 알고 있는 경우입니다. \n",
    "하지만 직접 규칙을 만드는 것은 두 가지 커다란 단점이 있습니다"
   ]
  },
  {
   "cell_type": "markdown",
   "metadata": {},
   "source": [
    "- 결정에 필요한 로직은 한 분야나 직업에 국한됩니다. 작업이 조금만 변경되더라도 전체 시스템을 다시 개발해야 할 수 있습니다.\n",
    "- 규칙을 설계하려면 그 분야 전문가들이 내리는 결정 방식에 대해 잘 알아야 합니다."
   ]
  },
  {
   "cell_type": "markdown",
   "metadata": {},
   "source": [
    "얼굴 인식은 규칙을 직접 만드는 데 실패한 대표적인 예. 컴퓨터가 인식하는 픽셀방식이 사람이 얼굴을 인식하는 방식과 매우 다르다는 점이 가장 큰 문제였습니다. 이런 표현 방식의 차이 때문에 디지털 이미지에서 얼굴을 구성하는 것이 무엇인지를 일련의 규칙으로 표현하기가 근본적으로 불가합니다.\n",
    "\n",
    "**그러나 머신러닝을 사용하여 알고리즘에 많은 얼굴 이미지를 제공해주면 얼굴을 특정하는 요소가 어떤 것인지를 충분히 찾아낼 수 있습니다.**"
   ]
  },
  {
   "cell_type": "markdown",
   "metadata": {},
   "source": [
    "## 머신러닝으로 풀 수 있는 문제"
   ]
  },
  {
   "cell_type": "markdown",
   "metadata": {},
   "source": [
    "### 지도학습"
   ]
  },
  {
   "cell_type": "markdown",
   "metadata": {},
   "source": [
    "가장 많이 사용되는 머신러닝 알고리즘은 이미 알려진 사례를 바탕으로 일반화된 모델을 만들어 의사 결정 프로세스를 자동화하는 것을\n",
    "**지도 학습**방식이라고 합니다.\n",
    "사용자는 알고리즘에 입려과 기대되는 출력을 제공하고 알고리즘은 주어진 입력에서 원하는 출력을 만드는 방법을 찾습니다. 이렇게 학습된 알고리즘은 사람의 도움 없이도 새로운 입력이 주어지면 적절한 출력을 만들 수 있습니다. 스팸 분류 문제로 돌아가 보면, 머신러닝을 사용해서 사용자는 알고리즘에 많은 이메일(입력)과 각 이메일의 스팸 여부(기대되는 출력)를 제공합니다. 그러면 이 알고리즘은 새로운 이메일이 스팸인지 아닌지 예측 가능합니다.\n",
    "\n",
    "**입력 데이터로부터 기대한 출려깅 나오도록 알고리즘을 가르치는 것**이기 때문에 입력과 출력으로부터 학습하는 머신러닝 알고리즘을 지도학습 알고리즘이라고 합니다.\n",
    "\n",
    "지도학습 알고리즘은 분석하기에 좋고 성능을 측정하기에 쉽습니다."
   ]
  },
  {
   "cell_type": "markdown",
   "metadata": {},
   "source": [
    "* 지도 학습의 예 "
   ]
  },
  {
   "cell_type": "markdown",
   "metadata": {},
   "source": [
    "1. 편지 봉투에 손으로 쓴 우편번호 숫자 판별\n",
    "\n",
    "-입력은 손글씨를 스캔한 이미지, 출력은 우편번호 숫자.\n",
    "\n",
    "2. 의료 영상 이미지에 기반한 종양 판단\n",
    "\n",
    "-입력은 이미지, 출력은 종양이 양성인지의 여부\n",
    "\n",
    "3. 의심되는 신용카드 거래 감지\n",
    "\n",
    "-입력은 신용카드 거래내역, 출력은 부정거래인지의 여부"
   ]
  },
  {
   "cell_type": "markdown",
   "metadata": {},
   "source": [
    "### 비지도 학습"
   ]
  },
  {
   "cell_type": "markdown",
   "metadata": {},
   "source": [
    "비지도 학습에서는 알고리즘에 입력은 주어지지만 출력은 제공되지 않습니다. 이 알고리즘의 성공 사례는 많지만 비지도 학습을 이해하거나 평가하는 일은 쉽지 않습니다."
   ]
  },
  {
   "cell_type": "markdown",
   "metadata": {},
   "source": [
    "* 비지도 학습의 예"
   ]
  },
  {
   "cell_type": "markdown",
   "metadata": {},
   "source": [
    "1. 블로그 글의 주제 구분\n",
    "\n",
    "-많은 양의 텍스트 데이터를 요약하고 그 안에 담긴 핵심 주제를 찾고자 할 수 있습니다. 사전에 어떤 주제인지 알지 못하고 얼마나 많은 주제가 있는지도 모릅니다. 그러므로 출력 값을 준비할 수 없습니다.\n",
    "\n",
    "2. 고객들을 취향이 비슷한 그룹으로 묶기\n",
    "\n",
    "-고객 데이터를 이용해서 어떤 고객들의 취향이 비슷한지 알고 싶거나 비슷한 취향의 고객을 그룹으로 묶고 싶을 것입니다. 쇼핑 사이트라면 부모, 독서광, 게이머 같은 그룹이 있을 수 있습니다. 어떤 그룹이 있는지 미리 알 수 없고 얼마나 많은 그룹이 있는지도 모르니 출력을 가지고 있지 않습니다.\n",
    "\n",
    "3. 비정상적인 웹사이트 접근 탐지\n",
    "\n",
    "-일상적이지 않은 접근 패턴을 찾으면 부정행위나 버그를 구별하는데 도움이 됩니다. 각각의비정상 패턴은 서로 많이 다를 수 있고 이미 가지고 있는 비정상 데이터도 없을 수 있습니다. 이 경우 단지 웹 트래픽만 관찰할 수 있고 어떤 것이 정상이고 비정상인지 알지 못하므로 비지도 학습 문제입니다."
   ]
  },
  {
   "cell_type": "markdown",
   "metadata": {},
   "source": [
    " **정리**"
   ]
  },
  {
   "cell_type": "markdown",
   "metadata": {},
   "source": [
    "지도 학습과 비지도 학습 모두 컴퓨터가 인식할 수 있는 형태로 입력 데이터를 준비하는 것이 중요합니다. 데이터를 엑셀 테이블처럼 생각하면 편리할 때가 많습니다. 우리가 판별해야 할 개개의 데이터(개개의 이메일,고객,거래)는 행이고, 데이터를 구성하는 각 속성(고객의 나이, 거래 가격, 지역)은 열입니다. 고객이라면 나이, 성별, 계정 생성일, 온라인 쇼핑몰에서의 구매빈도등으로 표현할 수 있습니다. 흑백 이미지로 된 종양데이터라면 크기나 모양, 색상의 진하기등이 속성이 될 것입니다.\n",
    "\n",
    "머신러닝에서는 하나의 개체 혹은 행을 **샘플**또는**데이터 포인트**라고 부릅니다. 그리고 샘플의 속성, 즉 열을 **특성**이라고 합니다.\n",
    "좋은 입력 데이터를 만들어내는 **특성 추출**혹은**특성 공학**라는 주제를 자세히 다뤄보겠습니다.\n",
    "\n",
    "유념해둬야 할것은 어떤 머신러닝 알고리즘도 아무런 정보가 없는 데이터로는 그 어떤 것도 예측할 수 없다는 사실입니다. 예를 들어 환자에 대해 알고 있는 특성이 오직 성씨 뿐이라면 어떤 알고리즘도 그 환자의 성별을 예측할 수는 없을 것입니다. 성씨 데이터에는 성별에 관한 정보가 없기 때문입니다. 만약 환자의 이름을 특성으로 추가한다면 아마 이름을 토대로 환자의 성별을 알아낼 수도 있을 것입니다."
   ]
  }
 ],
 "metadata": {
  "kernelspec": {
   "display_name": "Python 3",
   "language": "python",
   "name": "python3"
  },
  "language_info": {
   "codemirror_mode": {
    "name": "ipython",
    "version": 3
   },
   "file_extension": ".py",
   "mimetype": "text/x-python",
   "name": "python",
   "nbconvert_exporter": "python",
   "pygments_lexer": "ipython3",
   "version": "3.7.3"
  },
  "pycharm": {
   "stem_cell": {
    "cell_type": "raw",
    "metadata": {
     "collapsed": false
    },
    "source": []
   }
  },
  "toc": {
   "base_numbering": 1,
   "nav_menu": {},
   "number_sections": true,
   "sideBar": true,
   "skip_h1_title": false,
   "title_cell": "Table of Contents",
   "title_sidebar": "Contents",
   "toc_cell": false,
   "toc_position": {},
   "toc_section_display": true,
   "toc_window_display": false
  },
  "varInspector": {
   "cols": {
    "lenName": 16,
    "lenType": 16,
    "lenVar": 40
   },
   "kernels_config": {
    "python": {
     "delete_cmd_postfix": "",
     "delete_cmd_prefix": "del ",
     "library": "var_list.py",
     "varRefreshCmd": "print(var_dic_list())"
    },
    "r": {
     "delete_cmd_postfix": ") ",
     "delete_cmd_prefix": "rm(",
     "library": "var_list.r",
     "varRefreshCmd": "cat(var_dic_list()) "
    }
   },
   "types_to_exclude": [
    "module",
    "function",
    "builtin_function_or_method",
    "instance",
    "_Feature"
   ],
   "window_display": false
  }
 },
 "nbformat": 4,
 "nbformat_minor": 1
}
